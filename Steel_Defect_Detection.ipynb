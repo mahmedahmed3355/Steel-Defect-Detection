{
  "nbformat": 4,
  "nbformat_minor": 0,
  "metadata": {
    "colab": {
      "name": "Steel-Defect-Detection.ipynb",
      "provenance": [],
      "authorship_tag": "ABX9TyPLUXhbPL72dp7LpniQYJ6X",
      "include_colab_link": true
    },
    "kernelspec": {
      "name": "python3",
      "display_name": "Python 3"
    },
    "accelerator": "TPU"
  },
  "cells": [
    {
      "cell_type": "markdown",
      "metadata": {
        "id": "view-in-github",
        "colab_type": "text"
      },
      "source": [
        "<a href=\"https://colab.research.google.com/github/moh2236945/Steel-Defect-Detection/blob/master/Steel_Defect_Detection.ipynb\" target=\"_parent\"><img src=\"https://colab.research.google.com/assets/colab-badge.svg\" alt=\"Open In Colab\"/></a>"
      ]
    },
    {
      "cell_type": "code",
      "metadata": {
        "id": "X5xox1fcd4d_",
        "colab_type": "code",
        "colab": {
          "resources": {
            "http://localhost:8080/nbextensions/google.colab/files.js": {
              "data": "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",
              "ok": true,
              "headers": [
                [
                  "content-type",
                  "application/javascript"
                ]
              ],
              "status": 200,
              "status_text": ""
            }
          },
          "base_uri": "https://localhost:8080/",
          "height": 74
        },
        "outputId": "34ad7e75-8bb2-443c-9447-b7fc97670f57"
      },
      "source": [
        "#Code for importing kaggle dataset\n",
        "import os\n",
        "\n",
        "# Upload the API token.\n",
        "def get_kaggle_credentials():\n",
        "  token_dir = os.path.join(os.path.expanduser(\"~\"),\".kaggle\")\n",
        "  token_file = os.path.join(token_dir, \"kaggle.json\")\n",
        "  if not os.path.isdir(token_dir):\n",
        "    os.mkdir(token_dir)\n",
        "  try:\n",
        "    with open(token_file,'r') as f:\n",
        "      pass\n",
        "  except IOError as no_file:\n",
        "    try:\n",
        "      from google.colab import files\n",
        "    except ImportError:\n",
        "      raise no_file\n",
        "    \n",
        "    uploaded = files.upload()\n",
        "    \n",
        "    if \"kaggle.json\" not in uploaded:\n",
        "      raise ValueError(\"You need an API key! see: \"\n",
        "                       \"https://github.com/Kaggle/kaggle-api#api-credentials\")\n",
        "    with open(token_file, \"wb\") as f:\n",
        "      f.write(uploaded[\"kaggle.json\"])\n",
        "    os.chmod(token_file, 600)\n",
        "\n",
        "get_kaggle_credentials()"
      ],
      "execution_count": 2,
      "outputs": [
        {
          "output_type": "display_data",
          "data": {
            "text/html": [
              "\n",
              "     <input type=\"file\" id=\"files-0e25e586-8e04-433e-9dd1-73238a97470a\" name=\"files[]\" multiple disabled />\n",
              "     <output id=\"result-0e25e586-8e04-433e-9dd1-73238a97470a\">\n",
              "      Upload widget is only available when the cell has been executed in the\n",
              "      current browser session. Please rerun this cell to enable.\n",
              "      </output>\n",
              "      <script src=\"/nbextensions/google.colab/files.js\"></script> "
            ],
            "text/plain": [
              "<IPython.core.display.HTML object>"
            ]
          },
          "metadata": {
            "tags": []
          }
        },
        {
          "output_type": "stream",
          "text": [
            "Saving kaggle.json to kaggle.json\n"
          ],
          "name": "stdout"
        }
      ]
    },
    {
      "cell_type": "code",
      "metadata": {
        "id": "1gs9w4jBegdN",
        "colab_type": "code",
        "colab": {}
      },
      "source": [
        "!pip install -q kaggle\n"
      ],
      "execution_count": 0,
      "outputs": []
    },
    {
      "cell_type": "code",
      "metadata": {
        "id": "GXzb1Nk9aEgw",
        "colab_type": "code",
        "colab": {}
      },
      "source": [
        "!mkdir -p ~/.kaggle\n",
        "!cp kaggle.json ~/.kaggle/\n",
        "!chmod 600 ~/.kaggle/kaggle.json\n",
        "!kaggle datasets list\n"
      ],
      "execution_count": 0,
      "outputs": []
    },
    {
      "cell_type": "code",
      "metadata": {
        "id": "fhvFZxQ-ewIS",
        "colab_type": "code",
        "colab": {
          "base_uri": "https://localhost:8080/",
          "height": 1000
        },
        "outputId": "46a86822-2cd7-4e2d-adb6-39a5d2f8eda2"
      },
      "source": [
        "import kaggle\n",
        "#kaggle competitions download -c Steel-Defect-Detection-challenge\n",
        "#kaggle competitions download -c severstal-steel-defect-detection\n",
        "!kaggle datasets download -d severstal-steel-defect-detection \n",
        "#!kaggle competitions download -c severstal-steel-defect-detection --force\n",
        "!kaggle competitions download -c severstal-steel-defect-detection --force\n",
        "\n",
        "#!kaggle competitions download -c severstal-steel-defect-detection "
      ],
      "execution_count": 19,
      "outputs": [
        {
          "output_type": "stream",
          "text": [
            "404 - Not Found\n",
            "Warning: Looks like you're using an outdated API Version, please consider updating (server 1.5.6 / client 1.5.4)\n",
            "Downloading 001982b08.jpg to /content\n",
            "  0% 0.00/116k [00:00<?, ?B/s]\n",
            "100% 116k/116k [00:00<00:00, 33.8MB/s]\n",
            "Downloading 005d86c25.jpg to /content\n",
            "  0% 0.00/117k [00:00<?, ?B/s]\n",
            "100% 117k/117k [00:00<00:00, 36.3MB/s]\n",
            "Downloading 002fc4e19.jpg to /content\n",
            "  0% 0.00/89.0k [00:00<?, ?B/s]\n",
            "100% 89.0k/89.0k [00:00<00:00, 29.7MB/s]\n",
            "Downloading 00031f466.jpg to /content\n",
            "  0% 0.00/77.1k [00:00<?, ?B/s]\n",
            "100% 77.1k/77.1k [00:00<00:00, 67.8MB/s]\n",
            "Downloading 002e73b3c.jpg to /content\n",
            "  0% 0.00/135k [00:00<?, ?B/s]\n",
            "100% 135k/135k [00:00<00:00, 44.6MB/s]\n",
            "Downloading 002af848d.jpg to /content\n",
            "  0% 0.00/93.9k [00:00<?, ?B/s]\n",
            "100% 93.9k/93.9k [00:00<00:00, 28.0MB/s]\n",
            "Downloading 005b92582.jpg to /content\n",
            "  0% 0.00/74.2k [00:00<?, ?B/s]\n",
            "100% 74.2k/74.2k [00:00<00:00, 24.1MB/s]\n",
            "Downloading 000f6bf48.jpg to /content\n",
            "  0% 0.00/127k [00:00<?, ?B/s]\n",
            "100% 127k/127k [00:00<00:00, 41.1MB/s]\n",
            "Downloading 000a4bcdd.jpg to /content\n",
            "  0% 0.00/94.4k [00:00<?, ?B/s]\n",
            "100% 94.4k/94.4k [00:00<00:00, 29.7MB/s]\n",
            "Downloading 0002cc93b.jpg to /content\n",
            "  0% 0.00/113k [00:00<?, ?B/s]\n",
            "100% 113k/113k [00:00<00:00, 36.4MB/s]\n",
            "Downloading 000789191.jpg to /content\n",
            "  0% 0.00/100k [00:00<?, ?B/s]\n",
            "100% 100k/100k [00:00<00:00, 103MB/s]\n",
            "Downloading 0030401a5.jpg to /content\n",
            "  0% 0.00/106k [00:00<?, ?B/s]\n",
            "100% 106k/106k [00:00<00:00, 32.1MB/s]\n",
            "Downloading 001d3d093.jpg to /content\n",
            "  0% 0.00/104k [00:00<?, ?B/s]\n",
            "100% 104k/104k [00:00<00:00, 91.7MB/s]\n",
            "Downloading 001d1b355.jpg to /content\n",
            "  0% 0.00/87.6k [00:00<?, ?B/s]\n",
            "100% 87.6k/87.6k [00:00<00:00, 69.7MB/s]\n",
            "Downloading 0007a71bf.jpg to /content\n",
            "  0% 0.00/96.0k [00:00<?, ?B/s]\n",
            "100% 96.0k/96.0k [00:00<00:00, 96.4MB/s]\n",
            "Downloading 0046839bd.jpg to /content\n",
            "  0% 0.00/129k [00:00<?, ?B/s]\n",
            "100% 129k/129k [00:00<00:00, 40.2MB/s]\n",
            "Downloading 0025bde0c.jpg to /content\n",
            "  0% 0.00/129k [00:00<?, ?B/s]\n",
            "100% 129k/129k [00:00<00:00, 97.5MB/s]\n",
            "Downloading 000418bfc.jpg to /content\n",
            "  0% 0.00/138k [00:00<?, ?B/s]\n",
            "100% 138k/138k [00:00<00:00, 38.9MB/s]\n",
            "Downloading 003ac9d2a.jpg to /content\n",
            "  0% 0.00/89.9k [00:00<?, ?B/s]\n",
            "100% 89.9k/89.9k [00:00<00:00, 30.7MB/s]\n",
            "Downloading 0014fce06.jpg to /content\n",
            "  0% 0.00/58.6k [00:00<?, ?B/s]\n",
            "100% 58.6k/58.6k [00:00<00:00, 48.3MB/s]\n",
            "Downloading 00a0b7730.jpg to /content\n",
            "  0% 0.00/93.3k [00:00<?, ?B/s]\n",
            "100% 93.3k/93.3k [00:00<00:00, 103MB/s]\n",
            "Downloading 0109b68ec.jpg to /content\n",
            "  0% 0.00/121k [00:00<?, ?B/s]\n",
            "100% 121k/121k [00:00<00:00, 36.7MB/s]\n",
            "Downloading 00b000b81.jpg to /content\n",
            "  0% 0.00/25.0k [00:00<?, ?B/s]\n",
            "100% 25.0k/25.0k [00:00<00:00, 25.9MB/s]\n",
            "Downloading 002451917.jpg to /content\n",
            "  0% 0.00/81.5k [00:00<?, ?B/s]\n",
            "100% 81.5k/81.5k [00:00<00:00, 88.1MB/s]\n",
            "Downloading 006f39c41.jpg to /content\n",
            "  0% 0.00/112k [00:00<?, ?B/s]\n",
            "100% 112k/112k [00:00<00:00, 114MB/s]\n",
            "Downloading 00df5b714.jpg to /content\n",
            "  0% 0.00/119k [00:00<?, ?B/s]\n",
            "100% 119k/119k [00:00<00:00, 37.9MB/s]\n",
            "Downloading 000ccc2ac.jpg to /content\n",
            "  0% 0.00/18.7k [00:00<?, ?B/s]\n",
            "100% 18.7k/18.7k [00:00<00:00, 16.3MB/s]\n",
            "Downloading 00513039a.jpg to /content\n",
            "  0% 0.00/109k [00:00<?, ?B/s]\n",
            "100% 109k/109k [00:00<00:00, 111MB/s]\n",
            "Downloading 00a0f9949.jpg to /content\n",
            "  0% 0.00/76.4k [00:00<?, ?B/s]\n",
            "100% 76.4k/76.4k [00:00<00:00, 67.5MB/s]\n",
            "Downloading 00f3799a7.jpg to /content\n",
            "  0% 0.00/65.1k [00:00<?, ?B/s]\n",
            "100% 65.1k/65.1k [00:00<00:00, 72.6MB/s]\n",
            "Downloading 0042e163f.jpg to /content\n",
            "  0% 0.00/114k [00:00<?, ?B/s]\n",
            "100% 114k/114k [00:00<00:00, 37.3MB/s]\n",
            "Downloading 0108ce457.jpg to /content\n",
            "  0% 0.00/155k [00:00<?, ?B/s]\n",
            "100% 155k/155k [00:00<00:00, 48.2MB/s]\n",
            "Downloading 008725cbc.jpg to /content\n",
            "  0% 0.00/102k [00:00<?, ?B/s]\n",
            "100% 102k/102k [00:00<00:00, 88.3MB/s]\n",
            "Downloading 00b7fb703.jpg to /content\n",
            "  0% 0.00/133k [00:00<?, ?B/s]\n",
            "100% 133k/133k [00:00<00:00, 44.1MB/s]\n",
            "Downloading 00d72c660.jpg to /content\n",
            "  0% 0.00/101k [00:00<?, ?B/s]\n",
            "100% 101k/101k [00:00<00:00, 102MB/s]\n",
            "Downloading 00bbcd9af.jpg to /content\n",
            "  0% 0.00/84.7k [00:00<?, ?B/s]\n",
            "100% 84.7k/84.7k [00:00<00:00, 74.7MB/s]\n",
            "Downloading 0000f269f.jpg to /content\n",
            "  0% 0.00/104k [00:00<?, ?B/s]\n",
            "100% 104k/104k [00:00<00:00, 33.8MB/s]\n",
            "Downloading 003c5da97.jpg to /content\n",
            "  0% 0.00/138k [00:00<?, ?B/s]\n",
            "100% 138k/138k [00:00<00:00, 42.5MB/s]\n",
            "Downloading 0098ca44e.jpg to /content\n",
            "  0% 0.00/29.8k [00:00<?, ?B/s]\n",
            "100% 29.8k/29.8k [00:00<00:00, 25.5MB/s]\n",
            "Downloading 004f40c73.jpg to /content\n",
            "  0% 0.00/24.3k [00:00<?, ?B/s]\n",
            "100% 24.3k/24.3k [00:00<00:00, 20.3MB/s]\n",
            "Downloading sample_submission.csv to /content\n",
            "  0% 0.00/134k [00:00<?, ?B/s]\n",
            "100% 134k/134k [00:00<00:00, 118MB/s]\n",
            "Downloading train.csv.zip to /content\n",
            " 75% 5.00M/6.71M [00:00<00:00, 31.2MB/s]\n",
            "100% 6.71M/6.71M [00:00<00:00, 32.8MB/s]\n"
          ],
          "name": "stdout"
        }
      ]
    },
    {
      "cell_type": "markdown",
      "metadata": {
        "id": "aETK5zP6h0MS",
        "colab_type": "text"
      },
      "source": [
        "Load Data.\n",
        "Define Keras Model.\n",
        "Compile Keras Model.\n",
        "Fit Keras Model.\n",
        "Evaluate Keras Model.\n",
        "Tie It All Together.\n",
        "Make Predictions"
      ]
    },
    {
      "cell_type": "code",
      "metadata": {
        "id": "Q8P4lAAPc72U",
        "colab_type": "code",
        "colab": {}
      },
      "source": [
        ""
      ],
      "execution_count": 0,
      "outputs": []
    }
  ]
}